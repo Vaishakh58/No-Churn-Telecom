{
 "cells": [
  {
   "cell_type": "markdown",
   "metadata": {},
   "source": [
    "# EDA and Visualisation of NoTelecomChurn"
   ]
  },
  {
   "cell_type": "markdown",
   "metadata": {},
   "source": [
    "### Importing the necessary packages"
   ]
  },
  {
   "cell_type": "code",
   "execution_count": 40,
   "metadata": {},
   "outputs": [],
   "source": [
    "import pandas as pd\n",
    "import numpy as np\n",
    "from sklearn.model_selection import train_test_split\n",
    "import matplotlib.pyplot as plt\n",
    "%matplotlib inline\n",
    "import seaborn as sns\n",
    "from scipy import stats\n",
    "from matplotlib import rcParams"
   ]
  },
  {
   "cell_type": "markdown",
   "metadata": {},
   "source": [
    "### Reading the csv file"
   ]
  },
  {
   "cell_type": "code",
   "execution_count": 2,
   "metadata": {},
   "outputs": [],
   "source": [
    "data=pd.read_csv('telecom_churn_data_New.csv')"
   ]
  },
  {
   "cell_type": "code",
   "execution_count": 3,
   "metadata": {},
   "outputs": [
    {
     "data": {
      "text/html": [
       "<div>\n",
       "<style scoped>\n",
       "    .dataframe tbody tr th:only-of-type {\n",
       "        vertical-align: middle;\n",
       "    }\n",
       "\n",
       "    .dataframe tbody tr th {\n",
       "        vertical-align: top;\n",
       "    }\n",
       "\n",
       "    .dataframe thead th {\n",
       "        text-align: right;\n",
       "    }\n",
       "</style>\n",
       "<table border=\"1\" class=\"dataframe\">\n",
       "  <thead>\n",
       "    <tr style=\"text-align: right;\">\n",
       "      <th></th>\n",
       "      <th>State</th>\n",
       "      <th>Account Length</th>\n",
       "      <th>Area Code</th>\n",
       "      <th>Phone</th>\n",
       "      <th>International Plan</th>\n",
       "      <th>Vmail Plan</th>\n",
       "      <th>Vmail Messege</th>\n",
       "      <th>Day Min</th>\n",
       "      <th>Day Calls</th>\n",
       "      <th>Day Charge</th>\n",
       "      <th>...</th>\n",
       "      <th>Eve Calls</th>\n",
       "      <th>Eve Charge</th>\n",
       "      <th>Night Min</th>\n",
       "      <th>Night Calls</th>\n",
       "      <th>Night Charge</th>\n",
       "      <th>Int Min</th>\n",
       "      <th>Int Calls</th>\n",
       "      <th>Int Charge</th>\n",
       "      <th>CustServe Call</th>\n",
       "      <th>Churn</th>\n",
       "    </tr>\n",
       "  </thead>\n",
       "  <tbody>\n",
       "    <tr>\n",
       "      <th>0</th>\n",
       "      <td>KS</td>\n",
       "      <td>128</td>\n",
       "      <td>415</td>\n",
       "      <td>382-4657</td>\n",
       "      <td>no</td>\n",
       "      <td>yes</td>\n",
       "      <td>25</td>\n",
       "      <td>265.1</td>\n",
       "      <td>110</td>\n",
       "      <td>45.07</td>\n",
       "      <td>...</td>\n",
       "      <td>99</td>\n",
       "      <td>16.78</td>\n",
       "      <td>244.7</td>\n",
       "      <td>91</td>\n",
       "      <td>11.01</td>\n",
       "      <td>10.0</td>\n",
       "      <td>3</td>\n",
       "      <td>2.70</td>\n",
       "      <td>1</td>\n",
       "      <td>False.</td>\n",
       "    </tr>\n",
       "    <tr>\n",
       "      <th>1</th>\n",
       "      <td>OH</td>\n",
       "      <td>107</td>\n",
       "      <td>415</td>\n",
       "      <td>371-7191</td>\n",
       "      <td>no</td>\n",
       "      <td>yes</td>\n",
       "      <td>26</td>\n",
       "      <td>161.6</td>\n",
       "      <td>123</td>\n",
       "      <td>27.47</td>\n",
       "      <td>...</td>\n",
       "      <td>103</td>\n",
       "      <td>16.62</td>\n",
       "      <td>254.4</td>\n",
       "      <td>103</td>\n",
       "      <td>11.45</td>\n",
       "      <td>13.7</td>\n",
       "      <td>3</td>\n",
       "      <td>3.70</td>\n",
       "      <td>1</td>\n",
       "      <td>False.</td>\n",
       "    </tr>\n",
       "    <tr>\n",
       "      <th>2</th>\n",
       "      <td>NJ</td>\n",
       "      <td>137</td>\n",
       "      <td>415</td>\n",
       "      <td>358-1921</td>\n",
       "      <td>no</td>\n",
       "      <td>no</td>\n",
       "      <td>0</td>\n",
       "      <td>243.4</td>\n",
       "      <td>114</td>\n",
       "      <td>41.38</td>\n",
       "      <td>...</td>\n",
       "      <td>110</td>\n",
       "      <td>10.30</td>\n",
       "      <td>162.6</td>\n",
       "      <td>104</td>\n",
       "      <td>7.32</td>\n",
       "      <td>12.2</td>\n",
       "      <td>5</td>\n",
       "      <td>3.29</td>\n",
       "      <td>0</td>\n",
       "      <td>False.</td>\n",
       "    </tr>\n",
       "    <tr>\n",
       "      <th>3</th>\n",
       "      <td>OH</td>\n",
       "      <td>84</td>\n",
       "      <td>408</td>\n",
       "      <td>375-9999</td>\n",
       "      <td>yes</td>\n",
       "      <td>no</td>\n",
       "      <td>0</td>\n",
       "      <td>299.4</td>\n",
       "      <td>71</td>\n",
       "      <td>50.90</td>\n",
       "      <td>...</td>\n",
       "      <td>88</td>\n",
       "      <td>5.26</td>\n",
       "      <td>196.9</td>\n",
       "      <td>89</td>\n",
       "      <td>8.86</td>\n",
       "      <td>6.6</td>\n",
       "      <td>7</td>\n",
       "      <td>1.78</td>\n",
       "      <td>2</td>\n",
       "      <td>False.</td>\n",
       "    </tr>\n",
       "    <tr>\n",
       "      <th>4</th>\n",
       "      <td>OK</td>\n",
       "      <td>75</td>\n",
       "      <td>415</td>\n",
       "      <td>330-6626</td>\n",
       "      <td>yes</td>\n",
       "      <td>no</td>\n",
       "      <td>0</td>\n",
       "      <td>166.7</td>\n",
       "      <td>113</td>\n",
       "      <td>28.34</td>\n",
       "      <td>...</td>\n",
       "      <td>122</td>\n",
       "      <td>12.61</td>\n",
       "      <td>186.9</td>\n",
       "      <td>121</td>\n",
       "      <td>8.41</td>\n",
       "      <td>10.1</td>\n",
       "      <td>3</td>\n",
       "      <td>2.73</td>\n",
       "      <td>3</td>\n",
       "      <td>False.</td>\n",
       "    </tr>\n",
       "  </tbody>\n",
       "</table>\n",
       "<p>5 rows × 21 columns</p>\n",
       "</div>"
      ],
      "text/plain": [
       "  State  Account Length  Area Code      Phone International Plan Vmail Plan  \\\n",
       "0    KS             128        415   382-4657                 no        yes   \n",
       "1    OH             107        415   371-7191                 no        yes   \n",
       "2    NJ             137        415   358-1921                 no         no   \n",
       "3    OH              84        408   375-9999                yes         no   \n",
       "4    OK              75        415   330-6626                yes         no   \n",
       "\n",
       "   Vmail Messege  Day Min  Day Calls  Day Charge   ...     Eve Calls  \\\n",
       "0             25    265.1        110       45.07   ...            99   \n",
       "1             26    161.6        123       27.47   ...           103   \n",
       "2              0    243.4        114       41.38   ...           110   \n",
       "3              0    299.4         71       50.90   ...            88   \n",
       "4              0    166.7        113       28.34   ...           122   \n",
       "\n",
       "   Eve Charge  Night Min  Night Calls  Night Charge  Int Min  Int Calls  \\\n",
       "0       16.78      244.7           91         11.01     10.0          3   \n",
       "1       16.62      254.4          103         11.45     13.7          3   \n",
       "2       10.30      162.6          104          7.32     12.2          5   \n",
       "3        5.26      196.9           89          8.86      6.6          7   \n",
       "4       12.61      186.9          121          8.41     10.1          3   \n",
       "\n",
       "   Int Charge  CustServe Call    Churn  \n",
       "0        2.70               1   False.  \n",
       "1        3.70               1   False.  \n",
       "2        3.29               0   False.  \n",
       "3        1.78               2   False.  \n",
       "4        2.73               3   False.  \n",
       "\n",
       "[5 rows x 21 columns]"
      ]
     },
     "execution_count": 3,
     "metadata": {},
     "output_type": "execute_result"
    }
   ],
   "source": [
    "data.head()"
   ]
  },
  {
   "cell_type": "code",
   "execution_count": 7,
   "metadata": {},
   "outputs": [
    {
     "data": {
      "text/plain": [
       "(4617, 21)"
      ]
     },
     "execution_count": 7,
     "metadata": {},
     "output_type": "execute_result"
    }
   ],
   "source": [
    "data.shape"
   ]
  },
  {
   "cell_type": "markdown",
   "metadata": {},
   "source": [
    "### The shape of the data is 4617 rows and 21 columns."
   ]
  },
  {
   "cell_type": "code",
   "execution_count": 6,
   "metadata": {},
   "outputs": [
    {
     "name": "stdout",
     "output_type": "stream",
     "text": [
      "<class 'pandas.core.frame.DataFrame'>\n",
      "RangeIndex: 4617 entries, 0 to 4616\n",
      "Data columns (total 21 columns):\n",
      "State                 4617 non-null object\n",
      "Account Length        4617 non-null int64\n",
      "Area Code             4617 non-null int64\n",
      "Phone                 4617 non-null object\n",
      "International Plan    4617 non-null object\n",
      "Vmail Plan            4617 non-null object\n",
      "Vmail Messege         4617 non-null int64\n",
      "Day Min               4617 non-null float64\n",
      "Day Calls             4617 non-null int64\n",
      "Day Charge            4617 non-null float64\n",
      "Eve Min               4617 non-null float64\n",
      "Eve Calls             4617 non-null int64\n",
      "Eve Charge            4617 non-null float64\n",
      "Night Min             4617 non-null float64\n",
      "Night Calls           4617 non-null int64\n",
      "Night Charge          4617 non-null float64\n",
      "Int Min               4617 non-null float64\n",
      "Int Calls             4617 non-null int64\n",
      "Int Charge            4617 non-null float64\n",
      "CustServe Call        4617 non-null int64\n",
      "Churn                 4617 non-null object\n",
      "dtypes: float64(8), int64(8), object(5)\n",
      "memory usage: 757.6+ KB\n"
     ]
    }
   ],
   "source": [
    "data.info()"
   ]
  },
  {
   "cell_type": "markdown",
   "metadata": {},
   "source": [
    "### We can see all the 21 columns and number of values also type of data. Among 21 columns, 8 columns have float as data, 8 columns have integer as data and 5 columns are object i.e, Categorical value."
   ]
  },
  {
   "cell_type": "code",
   "execution_count": 8,
   "metadata": {},
   "outputs": [
    {
     "data": {
      "text/plain": [
       "0"
      ]
     },
     "execution_count": 8,
     "metadata": {},
     "output_type": "execute_result"
    }
   ],
   "source": [
    "data.isnull().sum().sum()"
   ]
  },
  {
   "cell_type": "markdown",
   "metadata": {},
   "source": [
    "### The sum of number of null values including both rows and columns is 0, that means their are no null values."
   ]
  },
  {
   "cell_type": "code",
   "execution_count": 5,
   "metadata": {},
   "outputs": [
    {
     "data": {
      "text/html": [
       "<div>\n",
       "<style scoped>\n",
       "    .dataframe tbody tr th:only-of-type {\n",
       "        vertical-align: middle;\n",
       "    }\n",
       "\n",
       "    .dataframe tbody tr th {\n",
       "        vertical-align: top;\n",
       "    }\n",
       "\n",
       "    .dataframe thead th {\n",
       "        text-align: right;\n",
       "    }\n",
       "</style>\n",
       "<table border=\"1\" class=\"dataframe\">\n",
       "  <thead>\n",
       "    <tr style=\"text-align: right;\">\n",
       "      <th></th>\n",
       "      <th>Account Length</th>\n",
       "      <th>Area Code</th>\n",
       "      <th>Vmail Messege</th>\n",
       "      <th>Day Min</th>\n",
       "      <th>Day Calls</th>\n",
       "      <th>Day Charge</th>\n",
       "      <th>Eve Min</th>\n",
       "      <th>Eve Calls</th>\n",
       "      <th>Eve Charge</th>\n",
       "      <th>Night Min</th>\n",
       "      <th>Night Calls</th>\n",
       "      <th>Night Charge</th>\n",
       "      <th>Int Min</th>\n",
       "      <th>Int Calls</th>\n",
       "      <th>Int Charge</th>\n",
       "      <th>CustServe Call</th>\n",
       "    </tr>\n",
       "  </thead>\n",
       "  <tbody>\n",
       "    <tr>\n",
       "      <th>count</th>\n",
       "      <td>4617.000000</td>\n",
       "      <td>4617.000000</td>\n",
       "      <td>4617.000000</td>\n",
       "      <td>4617.000000</td>\n",
       "      <td>4617.000000</td>\n",
       "      <td>4617.000000</td>\n",
       "      <td>4617.000000</td>\n",
       "      <td>4617.000000</td>\n",
       "      <td>4617.000000</td>\n",
       "      <td>4617.000000</td>\n",
       "      <td>4617.000000</td>\n",
       "      <td>4617.000000</td>\n",
       "      <td>4617.000000</td>\n",
       "      <td>4617.000000</td>\n",
       "      <td>4617.000000</td>\n",
       "      <td>4617.000000</td>\n",
       "    </tr>\n",
       "    <tr>\n",
       "      <th>mean</th>\n",
       "      <td>100.645224</td>\n",
       "      <td>437.046350</td>\n",
       "      <td>7.849903</td>\n",
       "      <td>180.447152</td>\n",
       "      <td>100.054364</td>\n",
       "      <td>30.676576</td>\n",
       "      <td>200.429088</td>\n",
       "      <td>100.179770</td>\n",
       "      <td>17.036703</td>\n",
       "      <td>200.623933</td>\n",
       "      <td>99.944120</td>\n",
       "      <td>9.028185</td>\n",
       "      <td>10.279294</td>\n",
       "      <td>4.433831</td>\n",
       "      <td>2.775926</td>\n",
       "      <td>1.567035</td>\n",
       "    </tr>\n",
       "    <tr>\n",
       "      <th>std</th>\n",
       "      <td>39.597194</td>\n",
       "      <td>42.288212</td>\n",
       "      <td>13.592333</td>\n",
       "      <td>53.983540</td>\n",
       "      <td>19.883027</td>\n",
       "      <td>9.177145</td>\n",
       "      <td>50.557001</td>\n",
       "      <td>19.821314</td>\n",
       "      <td>4.297332</td>\n",
       "      <td>50.543616</td>\n",
       "      <td>19.935053</td>\n",
       "      <td>2.274488</td>\n",
       "      <td>2.757361</td>\n",
       "      <td>2.457615</td>\n",
       "      <td>0.744413</td>\n",
       "      <td>1.307019</td>\n",
       "    </tr>\n",
       "    <tr>\n",
       "      <th>min</th>\n",
       "      <td>1.000000</td>\n",
       "      <td>408.000000</td>\n",
       "      <td>0.000000</td>\n",
       "      <td>0.000000</td>\n",
       "      <td>0.000000</td>\n",
       "      <td>0.000000</td>\n",
       "      <td>0.000000</td>\n",
       "      <td>0.000000</td>\n",
       "      <td>0.000000</td>\n",
       "      <td>23.200000</td>\n",
       "      <td>12.000000</td>\n",
       "      <td>1.040000</td>\n",
       "      <td>0.000000</td>\n",
       "      <td>0.000000</td>\n",
       "      <td>0.000000</td>\n",
       "      <td>0.000000</td>\n",
       "    </tr>\n",
       "    <tr>\n",
       "      <th>25%</th>\n",
       "      <td>74.000000</td>\n",
       "      <td>408.000000</td>\n",
       "      <td>0.000000</td>\n",
       "      <td>143.700000</td>\n",
       "      <td>87.000000</td>\n",
       "      <td>24.430000</td>\n",
       "      <td>165.900000</td>\n",
       "      <td>87.000000</td>\n",
       "      <td>14.100000</td>\n",
       "      <td>167.100000</td>\n",
       "      <td>87.000000</td>\n",
       "      <td>7.520000</td>\n",
       "      <td>8.600000</td>\n",
       "      <td>3.000000</td>\n",
       "      <td>2.320000</td>\n",
       "      <td>1.000000</td>\n",
       "    </tr>\n",
       "    <tr>\n",
       "      <th>50%</th>\n",
       "      <td>100.000000</td>\n",
       "      <td>415.000000</td>\n",
       "      <td>0.000000</td>\n",
       "      <td>180.000000</td>\n",
       "      <td>100.000000</td>\n",
       "      <td>30.600000</td>\n",
       "      <td>200.800000</td>\n",
       "      <td>101.000000</td>\n",
       "      <td>17.070000</td>\n",
       "      <td>200.800000</td>\n",
       "      <td>100.000000</td>\n",
       "      <td>9.040000</td>\n",
       "      <td>10.300000</td>\n",
       "      <td>4.000000</td>\n",
       "      <td>2.780000</td>\n",
       "      <td>1.000000</td>\n",
       "    </tr>\n",
       "    <tr>\n",
       "      <th>75%</th>\n",
       "      <td>127.000000</td>\n",
       "      <td>510.000000</td>\n",
       "      <td>17.000000</td>\n",
       "      <td>216.800000</td>\n",
       "      <td>113.000000</td>\n",
       "      <td>36.860000</td>\n",
       "      <td>234.000000</td>\n",
       "      <td>114.000000</td>\n",
       "      <td>19.890000</td>\n",
       "      <td>234.900000</td>\n",
       "      <td>113.000000</td>\n",
       "      <td>10.570000</td>\n",
       "      <td>12.100000</td>\n",
       "      <td>6.000000</td>\n",
       "      <td>3.270000</td>\n",
       "      <td>2.000000</td>\n",
       "    </tr>\n",
       "    <tr>\n",
       "      <th>max</th>\n",
       "      <td>243.000000</td>\n",
       "      <td>510.000000</td>\n",
       "      <td>51.000000</td>\n",
       "      <td>351.500000</td>\n",
       "      <td>165.000000</td>\n",
       "      <td>59.760000</td>\n",
       "      <td>363.700000</td>\n",
       "      <td>170.000000</td>\n",
       "      <td>30.910000</td>\n",
       "      <td>395.000000</td>\n",
       "      <td>175.000000</td>\n",
       "      <td>17.770000</td>\n",
       "      <td>20.000000</td>\n",
       "      <td>20.000000</td>\n",
       "      <td>5.400000</td>\n",
       "      <td>9.000000</td>\n",
       "    </tr>\n",
       "  </tbody>\n",
       "</table>\n",
       "</div>"
      ],
      "text/plain": [
       "       Account Length    Area Code  Vmail Messege      Day Min    Day Calls  \\\n",
       "count     4617.000000  4617.000000    4617.000000  4617.000000  4617.000000   \n",
       "mean       100.645224   437.046350       7.849903   180.447152   100.054364   \n",
       "std         39.597194    42.288212      13.592333    53.983540    19.883027   \n",
       "min          1.000000   408.000000       0.000000     0.000000     0.000000   \n",
       "25%         74.000000   408.000000       0.000000   143.700000    87.000000   \n",
       "50%        100.000000   415.000000       0.000000   180.000000   100.000000   \n",
       "75%        127.000000   510.000000      17.000000   216.800000   113.000000   \n",
       "max        243.000000   510.000000      51.000000   351.500000   165.000000   \n",
       "\n",
       "        Day Charge      Eve Min    Eve Calls   Eve Charge    Night Min  \\\n",
       "count  4617.000000  4617.000000  4617.000000  4617.000000  4617.000000   \n",
       "mean     30.676576   200.429088   100.179770    17.036703   200.623933   \n",
       "std       9.177145    50.557001    19.821314     4.297332    50.543616   \n",
       "min       0.000000     0.000000     0.000000     0.000000    23.200000   \n",
       "25%      24.430000   165.900000    87.000000    14.100000   167.100000   \n",
       "50%      30.600000   200.800000   101.000000    17.070000   200.800000   \n",
       "75%      36.860000   234.000000   114.000000    19.890000   234.900000   \n",
       "max      59.760000   363.700000   170.000000    30.910000   395.000000   \n",
       "\n",
       "       Night Calls  Night Charge      Int Min    Int Calls   Int Charge  \\\n",
       "count  4617.000000   4617.000000  4617.000000  4617.000000  4617.000000   \n",
       "mean     99.944120      9.028185    10.279294     4.433831     2.775926   \n",
       "std      19.935053      2.274488     2.757361     2.457615     0.744413   \n",
       "min      12.000000      1.040000     0.000000     0.000000     0.000000   \n",
       "25%      87.000000      7.520000     8.600000     3.000000     2.320000   \n",
       "50%     100.000000      9.040000    10.300000     4.000000     2.780000   \n",
       "75%     113.000000     10.570000    12.100000     6.000000     3.270000   \n",
       "max     175.000000     17.770000    20.000000    20.000000     5.400000   \n",
       "\n",
       "       CustServe Call  \n",
       "count     4617.000000  \n",
       "mean         1.567035  \n",
       "std          1.307019  \n",
       "min          0.000000  \n",
       "25%          1.000000  \n",
       "50%          1.000000  \n",
       "75%          2.000000  \n",
       "max          9.000000  "
      ]
     },
     "execution_count": 5,
     "metadata": {},
     "output_type": "execute_result"
    }
   ],
   "source": [
    "data.describe()"
   ]
  },
  {
   "cell_type": "markdown",
   "metadata": {},
   "source": [
    "### This describes the almost every aspect of the statistical point of view of the dataset. All the columns which are Numerical are always considered. we can see count (the number of data in that column), mean (the average of the data), std (standard deviation- the data deviation from the median), min and max value, Quartile value (The  % of value which lies equal or below to that quartile value)"
   ]
  },
  {
   "cell_type": "markdown",
   "metadata": {},
   "source": [
    "### Account length and area code does not matter for describing the dataset because they are jus codes. Where as the parameters related to Day, Eve, Night and international gives us the usage insight of the data"
   ]
  },
  {
   "cell_type": "code",
   "execution_count": 11,
   "metadata": {},
   "outputs": [],
   "source": [
    "from collections import Counter"
   ]
  },
  {
   "cell_type": "code",
   "execution_count": 23,
   "metadata": {},
   "outputs": [
    {
     "name": "stderr",
     "output_type": "stream",
     "text": [
      "C:\\Users\\Vaishak P J\\AppData\\Local\\Continuum\\anaconda3\\lib\\site-packages\\scipy\\stats\\stats.py:245: RuntimeWarning: The input array could not be properly checked for nan values. nan values will be ignored.\n",
      "  \"values. nan values will be ignored.\", RuntimeWarning)\n"
     ]
    },
    {
     "name": "stdout",
     "output_type": "stream",
     "text": [
      "Mode of-- State -- Occurance of ['WV'] is [149]\n",
      "Mode of-- Account Length -- Occurance of [90] is [63]\n",
      "Mode of-- Area Code -- Occurance of [415] is [2299]\n",
      "Mode of-- Phone -- Occurance of [' 327-1058'] is [1]\n",
      "Mode of-- International Plan -- Occurance of [' no'] is [4171]\n",
      "Mode of-- Vmail Plan -- Occurance of [' no'] is [3381]\n",
      "Mode of-- Vmail Messege -- Occurance of [0] is [3381]\n",
      "Mode of-- Day Min -- Occurance of [154.] is [10]\n",
      "Mode of-- Day Calls -- Occurance of [102] is [108]\n",
      "Mode of-- Day Charge -- Occurance of [26.18] is [10]\n",
      "Mode of-- Eve Min -- Occurance of [169.9] is [10]\n",
      "Mode of-- Eve Calls -- Occurance of [105] is [111]\n",
      "Mode of-- Eve Charge -- Occurance of [14.25] is [15]\n",
      "Mode of-- Night Min -- Occurance of [186.2] is [10]\n",
      "Mode of-- Night Calls -- Occurance of [105] is [115]\n",
      "Mode of-- Night Charge -- Occurance of [9.66] is [19]\n",
      "Mode of-- Int Min -- Occurance of [9.8] is [81]\n",
      "Mode of-- Int Calls -- Occurance of [3] is [925]\n",
      "Mode of-- Int Charge -- Occurance of [2.65] is [81]\n",
      "Mode of-- CustServe Call -- Occurance of [1] is [1651]\n",
      "Mode of-- Churn -- Occurance of [' False.'] is [3961]\n"
     ]
    }
   ],
   "source": [
    "col=data.columns\n",
    "for i in col:\n",
    "    print('Mode of--',i,'-- Occurance of',stats.mode(data[i])[0],'is',stats.mode(data[i])[1])"
   ]
  },
  {
   "cell_type": "markdown",
   "metadata": {},
   "source": [
    "### This Shows the Mode( frequency of Occurance) of each column."
   ]
  },
  {
   "cell_type": "markdown",
   "metadata": {},
   "source": [
    "### Area Code 415 is in the 2299 rows among 4617. similarly International Plan and Vmail plan are 'no' for majority of data. Considering the the Target Variable that is 'Churn' in this case the frequency of False is high that means people doesnot churn out."
   ]
  },
  {
   "cell_type": "code",
   "execution_count": 34,
   "metadata": {},
   "outputs": [
    {
     "data": {
      "text/plain": [
       "array([[<matplotlib.axes._subplots.AxesSubplot object at 0x000001F850A5A9E8>,\n",
       "        <matplotlib.axes._subplots.AxesSubplot object at 0x000001F850B30320>,\n",
       "        <matplotlib.axes._subplots.AxesSubplot object at 0x000001F850B66CF8>,\n",
       "        <matplotlib.axes._subplots.AxesSubplot object at 0x000001F850B8D3C8>],\n",
       "       [<matplotlib.axes._subplots.AxesSubplot object at 0x000001F850BB6A58>,\n",
       "        <matplotlib.axes._subplots.AxesSubplot object at 0x000001F850BB6A90>,\n",
       "        <matplotlib.axes._subplots.AxesSubplot object at 0x000001F850C0E7B8>,\n",
       "        <matplotlib.axes._subplots.AxesSubplot object at 0x000001F850C37E48>],\n",
       "       [<matplotlib.axes._subplots.AxesSubplot object at 0x000001F850C65518>,\n",
       "        <matplotlib.axes._subplots.AxesSubplot object at 0x000001F850C8EBA8>,\n",
       "        <matplotlib.axes._subplots.AxesSubplot object at 0x000001F850CC0278>,\n",
       "        <matplotlib.axes._subplots.AxesSubplot object at 0x000001F850CE78D0>],\n",
       "       [<matplotlib.axes._subplots.AxesSubplot object at 0x000001F850D0FF60>,\n",
       "        <matplotlib.axes._subplots.AxesSubplot object at 0x000001F850D3F630>,\n",
       "        <matplotlib.axes._subplots.AxesSubplot object at 0x000001F850D67CC0>,\n",
       "        <matplotlib.axes._subplots.AxesSubplot object at 0x000001F850D98390>]],\n",
       "      dtype=object)"
      ]
     },
     "execution_count": 34,
     "metadata": {},
     "output_type": "execute_result"
    },
    {
     "data": {
      "image/png": "[encoded data removed]",
      "text/plain": [
       "<Figure size 720x720 with 16 Axes>"
      ]
     },
     "metadata": {},
     "output_type": "display_data"
    }
   ],
   "source": [
    "data.hist(figsize=(10,10))"
   ]
  },
  {
   "cell_type": "markdown",
   "metadata": {},
   "source": [
    "### The histogram shows the distribution of data and we can say that it is quite normal, while few are skewed."
   ]
  },
  {
   "cell_type": "code",
   "execution_count": 35,
   "metadata": {},
   "outputs": [
    {
     "data": {
      "text/plain": [
       "Account Length    0.106248\n",
       "Area Code         1.135333\n",
       "Vmail Messege     1.326734\n",
       "Day Min          -0.002948\n",
       "Day Calls        -0.081013\n",
       "Day Charge       -0.002952\n",
       "Eve Min          -0.005280\n",
       "Eve Calls        -0.017554\n",
       "Eve Charge       -0.005252\n",
       "Night Min         0.020515\n",
       "Night Calls       0.030886\n",
       "Night Charge      0.020507\n",
       "Int Min          -0.220891\n",
       "Int Calls         1.366420\n",
       "Int Charge       -0.221342\n",
       "CustServe Call    1.046800\n",
       "dtype: float64"
      ]
     },
     "execution_count": 35,
     "metadata": {},
     "output_type": "execute_result"
    }
   ],
   "source": [
    "data.skew()"
   ]
  },
  {
   "cell_type": "markdown",
   "metadata": {},
   "source": [
    "### Skew should be between -1.96 to +1.96 for normal distriburtion"
   ]
  },
  {
   "cell_type": "code",
   "execution_count": 36,
   "metadata": {},
   "outputs": [
    {
     "data": {
      "text/plain": [
       "Account Length   -0.092552\n",
       "Area Code        -0.686039\n",
       "Vmail Messege     0.123526\n",
       "Day Min          -0.042399\n",
       "Day Calls         0.196147\n",
       "Day Charge       -0.042264\n",
       "Eve Min           0.043630\n",
       "Eve Calls         0.135980\n",
       "Eve Charge        0.043522\n",
       "Night Min         0.061409\n",
       "Night Calls       0.068815\n",
       "Night Charge      0.061380\n",
       "Int Min           0.671602\n",
       "Int Calls         3.302927\n",
       "Int Charge        0.672518\n",
       "CustServe Call    1.515026\n",
       "dtype: float64"
      ]
     },
     "execution_count": 36,
     "metadata": {},
     "output_type": "execute_result"
    }
   ],
   "source": [
    "data.kurtosis()"
   ]
  },
  {
   "cell_type": "markdown",
   "metadata": {},
   "source": [
    "### Kurtosis tells about the sharpness the curve"
   ]
  },
  {
   "cell_type": "code",
   "execution_count": 45,
   "metadata": {},
   "outputs": [
    {
     "data": {
      "text/plain": [
       "<matplotlib.axes._subplots.AxesSubplot at 0x1f8510f1208>"
      ]
     },
     "execution_count": 45,
     "metadata": {},
     "output_type": "execute_result"
    },
    {
     "data": {
      "image/png": "[encoded data removed]",
      "text/plain": [
       "<Figure size 720x720 with 2 Axes>"
      ]
     },
     "metadata": {},
     "output_type": "display_data"
    }
   ],
   "source": [
    "rcParams['figure.figsize']=[10,10]\n",
    "sns.heatmap(data.corr())"
   ]
  },
  {
   "cell_type": "markdown",
   "metadata": {},
   "source": [
    "### the data in the dataset is not actually that correlated expection Being the Min and Charge. Thus taking anyone of these two parameter would be suggested."
   ]
  },
  {
   "cell_type": "code",
   "execution_count": 52,
   "metadata": {},
   "outputs": [
    {
     "data": {
      "text/plain": [
       "<matplotlib.axes._subplots.AxesSubplot at 0x1f85213c8d0>"
      ]
     },
     "execution_count": 52,
     "metadata": {},
     "output_type": "execute_result"
    },
    {
     "data": {
      "image/png": "[encoded data removed]",
      "text/plain": [
       "<Figure size 720x720 with 1 Axes>"
      ]
     },
     "metadata": {},
     "output_type": "display_data"
    }
   ],
   "source": [
    "sns.countplot(data.Churn)"
   ]
  },
  {
   "cell_type": "code",
   "execution_count": null,
   "metadata": {},
   "outputs": [],
   "source": []
  }
 ],
 "metadata": {
  "kernelspec": {
   "display_name": "Python 3",
   "language": "python",
   "name": "python3"
  },
  "language_info": {
   "codemirror_mode": {
    "name": "ipython",
    "version": 3
   },
   "file_extension": ".py",
   "mimetype": "text/x-python",
   "name": "python",
   "nbconvert_exporter": "python",
   "pygments_lexer": "ipython3",
   "version": "3.6.5"
  }
 },
 "nbformat": 4,
 "nbformat_minor": 2
}
